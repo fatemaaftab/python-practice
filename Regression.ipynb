{
 "cells": [
  {
   "cell_type": "markdown",
   "metadata": {
    "nbgrader": {
     "grade": false,
     "grade_id": "cell-c573567084cd4147",
     "locked": true,
     "schema_version": 3,
     "solution": false,
     "task": false
    }
   },
   "source": [
    "## Analyzing the World Happiness Data\n",
    "\n",
    "### Computing linear regressions among variables\n"
   ]
  },
  {
   "cell_type": "markdown",
   "metadata": {
    "nbgrader": {
     "grade": false,
     "grade_id": "cell-8bb9ab875260593a",
     "locked": true,
     "schema_version": 3,
     "solution": false,
     "task": false
    }
   },
   "source": [
    "In this exercise, we will compute linear regressions among some of the variables in the WHR dataset.  To do so, we will use the ```statsmodels``` package, which provides a broad array of techniques for statistical analysis and modeling.\n",
    "\n",
    "As before, we'll repeat here some of the code developed in previous exercises so that we can continue to work with data in this exercise. Execute the next few code cells to load and reconfigure the data. Rather than examining the full dataset, we will just examine the data from 2015-2017, which we will store in a dataframe named ```df1517```."
   ]
  },
  {
   "cell_type": "code",
   "execution_count": 1,
   "metadata": {
    "nbgrader": {
     "grade": false,
     "grade_id": "cell-511e024cdd921aba",
     "locked": true,
     "schema_version": 3,
     "solution": false,
     "task": false
    }
   },
   "outputs": [],
   "source": [
    "import pandas as pd\n",
    "import seaborn as sns\n",
    "import matplotlib.pyplot as plt\n",
    "%matplotlib inline\n",
    "pd.options.display.float_format = '{:.2f}'.format"
   ]
  },
  {
   "cell_type": "code",
   "execution_count": 2,
   "metadata": {
    "nbgrader": {
     "grade": false,
     "grade_id": "cell-7b09dfe4a0153b39",
     "locked": true,
     "schema_version": 3,
     "solution": false,
     "task": false
    }
   },
   "outputs": [],
   "source": [
    "dfraw = pd.read_excel('WHR2018Chapter2OnlineData.xls', sheet_name='Table2.1')"
   ]
  },
  {
   "cell_type": "code",
   "execution_count": 3,
   "metadata": {
    "nbgrader": {
     "grade": false,
     "grade_id": "cell-ae8c71db502ebc57",
     "locked": true,
     "schema_version": 3,
     "solution": false,
     "task": false
    },
    "scrolled": false
   },
   "outputs": [
    {
     "data": {
      "text/html": [
       "<div>\n",
       "<style scoped>\n",
       "    .dataframe tbody tr th:only-of-type {\n",
       "        vertical-align: middle;\n",
       "    }\n",
       "\n",
       "    .dataframe tbody tr th {\n",
       "        vertical-align: top;\n",
       "    }\n",
       "\n",
       "    .dataframe thead th {\n",
       "        text-align: right;\n",
       "    }\n",
       "</style>\n",
       "<table border=\"1\" class=\"dataframe\">\n",
       "  <thead>\n",
       "    <tr style=\"text-align: right;\">\n",
       "      <th></th>\n",
       "      <th>country</th>\n",
       "      <th>year</th>\n",
       "      <th>Happiness</th>\n",
       "      <th>Positive</th>\n",
       "      <th>Negative</th>\n",
       "      <th>LogGDP</th>\n",
       "      <th>Support</th>\n",
       "      <th>Life</th>\n",
       "      <th>Freedom</th>\n",
       "      <th>Generosity</th>\n",
       "      <th>Corruption</th>\n",
       "    </tr>\n",
       "  </thead>\n",
       "  <tbody>\n",
       "    <tr>\n",
       "      <th>7</th>\n",
       "      <td>Afghanistan</td>\n",
       "      <td>2015</td>\n",
       "      <td>3.98</td>\n",
       "      <td>0.55</td>\n",
       "      <td>0.34</td>\n",
       "      <td>7.47</td>\n",
       "      <td>0.53</td>\n",
       "      <td>51.69</td>\n",
       "      <td>0.39</td>\n",
       "      <td>0.09</td>\n",
       "      <td>0.88</td>\n",
       "    </tr>\n",
       "    <tr>\n",
       "      <th>8</th>\n",
       "      <td>Afghanistan</td>\n",
       "      <td>2016</td>\n",
       "      <td>4.22</td>\n",
       "      <td>0.56</td>\n",
       "      <td>0.35</td>\n",
       "      <td>7.46</td>\n",
       "      <td>0.56</td>\n",
       "      <td>52.02</td>\n",
       "      <td>0.52</td>\n",
       "      <td>0.06</td>\n",
       "      <td>0.79</td>\n",
       "    </tr>\n",
       "    <tr>\n",
       "      <th>9</th>\n",
       "      <td>Afghanistan</td>\n",
       "      <td>2017</td>\n",
       "      <td>2.66</td>\n",
       "      <td>0.50</td>\n",
       "      <td>0.37</td>\n",
       "      <td>7.46</td>\n",
       "      <td>0.49</td>\n",
       "      <td>52.34</td>\n",
       "      <td>0.43</td>\n",
       "      <td>-0.11</td>\n",
       "      <td>0.95</td>\n",
       "    </tr>\n",
       "    <tr>\n",
       "      <th>17</th>\n",
       "      <td>Albania</td>\n",
       "      <td>2015</td>\n",
       "      <td>4.61</td>\n",
       "      <td>0.69</td>\n",
       "      <td>0.35</td>\n",
       "      <td>9.30</td>\n",
       "      <td>0.64</td>\n",
       "      <td>68.69</td>\n",
       "      <td>0.70</td>\n",
       "      <td>-0.09</td>\n",
       "      <td>0.88</td>\n",
       "    </tr>\n",
       "    <tr>\n",
       "      <th>18</th>\n",
       "      <td>Albania</td>\n",
       "      <td>2016</td>\n",
       "      <td>4.51</td>\n",
       "      <td>0.68</td>\n",
       "      <td>0.32</td>\n",
       "      <td>9.34</td>\n",
       "      <td>0.64</td>\n",
       "      <td>68.87</td>\n",
       "      <td>0.73</td>\n",
       "      <td>-0.02</td>\n",
       "      <td>0.90</td>\n",
       "    </tr>\n",
       "  </tbody>\n",
       "</table>\n",
       "</div>"
      ],
      "text/plain": [
       "        country  year  Happiness  Positive  Negative  LogGDP  Support  Life  \\\n",
       "7   Afghanistan  2015       3.98      0.55      0.34    7.47     0.53 51.69   \n",
       "8   Afghanistan  2016       4.22      0.56      0.35    7.46     0.56 52.02   \n",
       "9   Afghanistan  2017       2.66      0.50      0.37    7.46     0.49 52.34   \n",
       "17      Albania  2015       4.61      0.69      0.35    9.30     0.64 68.69   \n",
       "18      Albania  2016       4.51      0.68      0.32    9.34     0.64 68.87   \n",
       "\n",
       "    Freedom  Generosity  Corruption  \n",
       "7      0.39        0.09        0.88  \n",
       "8      0.52        0.06        0.79  \n",
       "9      0.43       -0.11        0.95  \n",
       "17     0.70       -0.09        0.88  \n",
       "18     0.73       -0.02        0.90  "
      ]
     },
     "execution_count": 3,
     "metadata": {},
     "output_type": "execute_result"
    }
   ],
   "source": [
    "cols_to_include = ['country', 'year', 'Life Ladder', \n",
    "                   'Positive affect','Negative affect',\n",
    "                   'Log GDP per capita', 'Social support',\n",
    "                   'Healthy life expectancy at birth', \n",
    "                   'Freedom to make life choices', \n",
    "                   'Generosity', 'Perceptions of corruption']\n",
    "renaming = {'Life Ladder': 'Happiness', \n",
    "            'Log GDP per capita': 'LogGDP', \n",
    "            'Social support': 'Support', \n",
    "            'Healthy life expectancy at birth': 'Life', \n",
    "            'Freedom to make life choices': 'Freedom', \n",
    "            'Perceptions of corruption': 'Corruption', \n",
    "            'Positive affect': 'Positive', \n",
    "            'Negative affect': 'Negative'}\n",
    "df = dfraw[cols_to_include].rename(renaming, axis=1)\n",
    "df1517 = df[df.year.isin(range(2015,2018))]\n",
    "df1517.head()"
   ]
  },
  {
   "cell_type": "markdown",
   "metadata": {
    "nbgrader": {
     "grade": false,
     "grade_id": "cell-ded07cf9591d22ae",
     "locked": true,
     "schema_version": 3,
     "solution": false,
     "task": false
    }
   },
   "source": [
    "### Step 1\n",
    "\n",
    "The World Happiness Report is generally interested in how self-reported Happiness (Life Ladder) is dependent on the variety of different factors that they measure (LogGDP, Support, Life, etc.).  The report carries out a detailed analysis explaining how much of each country's Happiness can be ascribed to each of the explanatory factors.  We will consider later the specific analysis carried out in the WHR, but start here with a simpler analysis.\n",
    "\n",
    "As noted, we'll use the statsmodels package, which is described [here in more detail](https://www.statsmodels.org/stable/index.html).  We'll start by importing the statsmodels API (application programming interface), which is conventionally imported with the shorter name ```sm```."
   ]
  },
  {
   "cell_type": "code",
   "execution_count": 4,
   "metadata": {
    "nbgrader": {
     "grade": false,
     "grade_id": "cell-958db29b24231c90",
     "locked": true,
     "schema_version": 3,
     "solution": false,
     "task": false
    }
   },
   "outputs": [],
   "source": [
    "import statsmodels.api as sm"
   ]
  },
  {
   "cell_type": "markdown",
   "metadata": {
    "nbgrader": {
     "grade": false,
     "grade_id": "cell-df7cce0d159e8950",
     "locked": true,
     "schema_version": 3,
     "solution": false,
     "task": false
    }
   },
   "source": [
    "### Step 2\n",
    "\n",
    "In previous exercises, we looked at the relationship between Happiness and LogGDP in the WHR data, and saw that they were generally well correlated.  Let's first revisit a plot we made in a previous exercise demonstrating the this relationship.\n",
    "\n",
    "Execute the code cell below and examine the output."
   ]
  },
  {
   "cell_type": "code",
   "execution_count": 5,
   "metadata": {
    "nbgrader": {
     "grade": false,
     "grade_id": "cell-61264c532bf2074e",
     "locked": true,
     "schema_version": 3,
     "solution": false,
     "task": false
    }
   },
   "outputs": [
    {
     "data": {
      "text/plain": [
       "<matplotlib.axes._subplots.AxesSubplot at 0x7f02020df7b8>"
      ]
     },
     "execution_count": 5,
     "metadata": {},
     "output_type": "execute_result"
    },
    {
     "data": {
      "image/png": "[encoded data removed]",
      "text/plain": [
       "<Figure size 432x288 with 1 Axes>"
      ]
     },
     "metadata": {
      "needs_background": "light"
     },
     "output_type": "display_data"
    }
   ],
   "source": [
    "sns.regplot(x='LogGDP', y='Happiness', data=df1517)"
   ]
  },
  {
   "cell_type": "markdown",
   "metadata": {
    "nbgrader": {
     "grade": false,
     "grade_id": "cell-a341d16efe4ba567",
     "locked": true,
     "schema_version": 3,
     "solution": false,
     "task": false
    }
   },
   "source": [
    "### Step 3\n",
    "\n",
    "Visually, the relationship between the two variables plotted above looks something like a line, albeit with a fair amount of jitter above and below that line.  \n",
    "\n",
    "Linear regression is a method that estimates a relationship between two variables by fitting a line to data points relating those variables.  That is, given a set of data points relating two variables, linear regression creates a <b>model</b> of the data by assuming that the data relationship is well described by a straight line &mdash; more specifically, a straight line *is* the model of the data.  Given our assumption that a line is a good description of the data relationship, we need to identify what is the specific line that best fits our particular dataset.\n",
    "\n",
    "Mathematically, a line relating an independent variable $x$ and a dependent variable $y$ is characterized by two parameters: the slope and the y-intercept.  Mathematically, we might write:\n",
    "$$y = \\beta x + y_0$$\n",
    "where $\\beta$ represents the slope and $y_0$ represents the y-intercept.  The y-intercept is where the line crosses the y-axis (i.e., for $x = 0$), and the slope indicates how a change $\\Delta x$ in the independent variable corresponds to a change $\\Delta y$ in the dependent variable (the slope is given by $\\beta = \\Delta_y/\\Delta_x$).\n",
    "\n",
    "In our case, we are interested in quantifying the relationship between Happiness and LogGDP, so we are interested in a specific model of the form:\n",
    "\n",
    "$${\\rm Happiness} = \\beta * {\\rm LogGDP} + y_0$$\n",
    "\n",
    "Linear regression attempts to find the <b>best-fit line</b> that minimizes the least-squares error, that is, the difference between the actual data and the model prediction given by the equation above, summed over all data points. That is, linear regression produces a specific estimate for the parameters $\\beta$ and $y_0$ that does the best job of fitting the data points.\n",
    "\n",
    "Visually, we can see that the slope of the general trend in the data is approximately equal to 1, because the y-axis increases by around 4 units (Happiness increasing from approximately 3 to 7) at the same time that the x-axis also increases by around 4 units (LogGDP going from 7 to 11).  It is harder to estimate the y-intercept of the dataset, since at LogGDP=7, the data are far from the y-axis at $x = 0$.  You should recognize that some estimates for the model parameters $\\beta$ and $y_0$ would do a poor job of describing the data.  If we chose the slope to be $\\beta=100$, for example, then our model would be predicting a much more rapid rise than we see in the actual data.  Or if we chose a very large y-intercept such as $y_0=1000$, the model predictions would lie far above the data.  But we don't need to rely on visual inspection, since we can use tools such as statsmodels to estimate these model parameters numerically.  (This is part of a general process typically referred to as \"parameter estimation\" or \"estimating parameters from data\", but it should be recognized that parameter estimation always occurs within the context of some assumed model, such as the straight line we are using here.)\n",
    "\n",
    "The method from statsmodels that we will use specifically is called Ordinary Least Squares (OLS), which is the simplest of linear regression methods to estimate the parameters that minimize the least-squares error between the actual data and the model predictions.\n",
    "\n",
    "In statsmodels, a fit to the slope $\\beta$ will be carried out when you indicate what are the dependent and independent variables.  Statsmodels (and others) use a somewhat [different terminology](https://www.statsmodels.org/stable/endog_exog.html): what we have been calling the independent variable, statsmodels call the \"exogenous\" variable, and our dependent variable is the \"endogenous\" variable in statsmodels.  By default, statsmodels will not attempt to fit the y-intercept $y_0$, but that can be triggered by augmenting the dataset, as described in more detail below.  \n",
    "\n",
    "\n",
    "In the code cell below, carry out the following steps:\n",
    "\n",
    "* Extract the Happiness data from ```df1517``` and assign it to the variable ```y```\n",
    "* Extract the LogGDP data from ```df1517``` and assign it to the variable ```x```\n",
    "* Print the values of x and y\n",
    "\n",
    "Our goal will be to fit a straight line relating the data in ```y``` to the data in ```x```."
   ]
  },
  {
   "cell_type": "code",
   "execution_count": 6,
   "metadata": {
    "nbgrader": {
     "grade": false,
     "grade_id": "cell-631253ec2dee65d2",
     "locked": true,
     "schema_version": 3,
     "solution": false,
     "task": false
    }
   },
   "outputs": [
    {
     "name": "stdout",
     "output_type": "stream",
     "text": [
      "7      7.47\n",
      "8      7.46\n",
      "9      7.46\n",
      "17     9.30\n",
      "18     9.34\n",
      "       ... \n",
      "1548   8.20\n",
      "1549   8.21\n",
      "1559   7.56\n",
      "1560   7.54\n",
      "1561   7.54\n",
      "Name: LogGDP, Length: 426, dtype: float64\n",
      "7      3.98\n",
      "8      4.22\n",
      "9      2.66\n",
      "17     4.61\n",
      "18     4.51\n",
      "       ... \n",
      "1548   4.35\n",
      "1549   3.93\n",
      "1559   3.70\n",
      "1560   3.74\n",
      "1561   3.64\n",
      "Name: Happiness, Length: 426, dtype: float64\n"
     ]
    }
   ],
   "source": [
    "y=df1517['Happiness']\n",
    "x=df1517['LogGDP']\n",
    "print(x)\n",
    "print(y)"
   ]
  },
  {
   "cell_type": "markdown",
   "metadata": {
    "nbgrader": {
     "grade": false,
     "grade_id": "cell-e1fcced95d63f6ff",
     "locked": true,
     "schema_version": 3,
     "solution": false,
     "task": false
    }
   },
   "source": [
    "### Step 4\n",
    "\n",
    "By default, statsmodels OLS will estimate one parameter or coefficient for each independent variable.  In our case, we have one independent variable (```x```), and we want to estimate the linear coefficient that relates ```x``` and ```y```, which we are calling $\\beta$.  \n",
    "\n",
    "But we also want OLS to estimate the y-intercept $y_0$.  In order to do so, we must augment the dataset by adding an additional column to the data in ```x``` so that OLS can separately estimate a y-intercept from that.  The mechanism that statsmodels uses to trigger this estimation is to add a constant column of ones to the independent variable, which OLS then interprets as a constant offset to the line it is fitting.  You might find it useful to consult the [statsmodels documentation on OLS](https://www.statsmodels.org/stable/generated/statsmodels.regression.linear_model.OLS.html#statsmodels.regression.linear_model.OLS).\n",
    "\n",
    "In the code cell below:\n",
    "\n",
    "* Use the ```sm.add_constant``` function to add a constant to ```x```, and assign the result back to ```x```\n",
    "* Print the variable ```x```.  You should note that this now contains two columns, one labeled ```const``` (the constant we just added) and one labeled ```LogGDP```."
   ]
  },
  {
   "cell_type": "code",
   "execution_count": 7,
   "metadata": {
    "nbgrader": {
     "grade": false,
     "grade_id": "cell-e8b45858b3b8194a",
     "locked": true,
     "schema_version": 3,
     "solution": false,
     "task": false
    }
   },
   "outputs": [
    {
     "name": "stdout",
     "output_type": "stream",
     "text": [
      "      const  LogGDP\n",
      "7      1.00    7.47\n",
      "8      1.00    7.46\n",
      "9      1.00    7.46\n",
      "17     1.00    9.30\n",
      "18     1.00    9.34\n",
      "...     ...     ...\n",
      "1548   1.00    8.20\n",
      "1549   1.00    8.21\n",
      "1559   1.00    7.56\n",
      "1560   1.00    7.54\n",
      "1561   1.00    7.54\n",
      "\n",
      "[426 rows x 2 columns]\n"
     ]
    }
   ],
   "source": [
    "x=sm.add_constant(x)\n",
    "print(x)"
   ]
  },
  {
   "cell_type": "markdown",
   "metadata": {
    "nbgrader": {
     "grade": false,
     "grade_id": "cell-0efe0faded49a4a8",
     "locked": true,
     "schema_version": 3,
     "solution": false,
     "task": false
    }
   },
   "source": [
    "### Step 5\n",
    "\n",
    "Now that we've set up the basic elements of the data, let's carry out the regression.  Statsmodels works by creating objects that represent a model of the data: in this case, the model is OLS, or a least-squares straight-line fit to the data.  The basic workflow is to first create an OLS object that contains the specific x and y data values of interest, and then to fit the model to the data, which is the process by which the best-fit model parameters are estimated.  All model objects that one creates in statsmodels possess a ```fit``` method that carries out the process of fitting (parameter estimation).\n",
    "\n",
    "In the code cell below:\n",
    "\n",
    "* Use the ```sm.OLS``` function to create a model object to fit ```y``` to ```x```, and assign the result to the variable ```model```.  Also pass in the option ```missing='drop'``` to drop any observations with missing data in either x or y.  As before, you might find it useful to consult the [statsmodels documentation on OLS](https://www.statsmodels.org/stable/generated/statsmodels.regression.linear_model.OLS.html#statsmodels.regression.linear_model.OLS).\n",
    "* Call the ```fit``` method on ```model``` to fit the model to the data, and store the output in ```results```\n",
    "* Print the results of the fit, by calling the ```results.summary``` method."
   ]
  },
  {
   "cell_type": "markdown",
   "metadata": {},
   "source": [
    "## Graded Cell\n",
    "\n",
    "This cell is worth 100% of the grade for this assignment."
   ]
  },
  {
   "cell_type": "code",
   "execution_count": 37,
   "metadata": {
    "nbgrader": {
     "grade": false,
     "grade_id": "cell-0b7c721040f349a4",
     "locked": false,
     "schema_version": 3,
     "solution": true,
     "task": false
    }
   },
   "outputs": [
    {
     "name": "stdout",
     "output_type": "stream",
     "text": [
      "                            OLS Regression Results                            \n",
      "==============================================================================\n",
      "Dep. Variable:              Happiness   R-squared:                       0.634\n",
      "Model:                            OLS   Adj. R-squared:                  0.633\n",
      "Method:                 Least Squares   F-statistic:                     708.9\n",
      "Date:                Fri, 12 Aug 2022   Prob (F-statistic):           2.06e-91\n",
      "Time:                        20:18:47   Log-Likelihood:                -422.66\n",
      "No. Observations:                 412   AIC:                             849.3\n",
      "Df Residuals:                     410   BIC:                             857.4\n",
      "Df Model:                           1                                         \n",
      "Covariance Type:            nonrobust                                         \n",
      "==============================================================================\n",
      "                 coef    std err          t      P>|t|      [0.025      0.975]\n",
      "------------------------------------------------------------------------------\n",
      "const         -1.4693      0.262     -5.613      0.000      -1.984      -0.955\n",
      "LogGDP         0.7436      0.028     26.625      0.000       0.689       0.798\n",
      "==============================================================================\n",
      "Omnibus:                        2.653   Durbin-Watson:                   0.932\n",
      "Prob(Omnibus):                  0.265   Jarque-Bera (JB):                2.666\n",
      "Skew:                          -0.160   Prob(JB):                        0.264\n",
      "Kurtosis:                       2.769   Cond. No.                         74.4\n",
      "==============================================================================\n",
      "\n",
      "Warnings:\n",
      "[1] Standard Errors assume that the covariance matrix of the errors is correctly specified.\n"
     ]
    }
   ],
   "source": [
    "# YOUR CODE HERE\n",
    "y=df1517['Happiness']\n",
    "x=df1517['LogGDP']\n",
    "x=sm.add_constant(x)\n",
    "model = sm.OLS(y,x,missing='drop')\n",
    "results = model.fit()\n",
    "results.summary\n",
    "print(results.summary())"
   ]
  },
  {
   "cell_type": "markdown",
   "metadata": {},
   "source": [
    "## Self-Check\n",
    "\n",
    "Run the cell below to test the correctness of your code above before submitting for grading."
   ]
  },
  {
   "cell_type": "code",
   "execution_count": 38,
   "metadata": {},
   "outputs": [
    {
     "name": "stdout",
     "output_type": "stream",
     "text": [
      "Correct!\n"
     ]
    }
   ],
   "source": [
    "# Run this self-test cell to check your code; do not add code or delete code in this cell\n",
    "from jn import testRegression\n",
    "\n",
    "try:\n",
    "    print(testRegression(df1517, x, y, results))\n",
    "except Exception as e:\n",
    "    print(\"Error!\\n\" + str(e))\n"
   ]
  },
  {
   "cell_type": "markdown",
   "metadata": {
    "nbgrader": {
     "grade": false,
     "grade_id": "cell-906322e778ea00dc",
     "locked": true,
     "schema_version": 3,
     "solution": false,
     "task": false
    }
   },
   "source": [
    "### Step 6\n",
    "\n",
    "The results summary produces a lot of information, and resembles the sort of information produced by many different statistics packages and programs.  Note at the top of the summary table that the \"Dep. Variable\" (dependent variable) is called Happiness.  The independent variable(s) are summarized in the middle panel where the estimated values of the slope and y-intercept are provided, which should look something like this:\n",
    "\n",
    "<pre>\n",
    "==============================================================================\n",
    "                 coef    std err          t      P>|t|      [0.025      0.975]\n",
    "------------------------------------------------------------------------------\n",
    "const         -1.4693      0.262     -5.613      0.000      -1.984      -0.955\n",
    "LogGDP         0.7436      0.028     26.625      0.000       0.689       0.798\n",
    "==============================================================================\n",
    "</pre>\n",
    "\n",
    "The first row of the table provided concerns the constant (\"const\") term, and the  second row describes the ```LogGDP``` part of the data.  Let's break this down in some further detail.\n",
    "\n",
    "Each of the two rows contains a coefficient ('coef'): these are the parameters that we are trying to estimate.\n",
    "\n",
    "The first row, labeled 'const', describes the y-intercept $y_0$ in our model, which is the coefficient ('coef') associated with the constant ('const') term.\n",
    "\n",
    "The second row, labeled 'LogGDP', describes the slope $\\beta$ in our model, which is the coefficient ('coef') associated with the LogGDP term.\n",
    "\n",
    "In other words, using the data in the table above, OLS has identified that the best straight-line model fitting Happiness to LogGDP is:\n",
    "\n",
    "$${\\rm Happiness} = 0.7436 * {\\rm LogGDP} - 1.4693$$\n",
    "\n",
    "In the visual estimation of the slope we did above, we noted that the slope should be approximately equal to 1.  That turned out to be an over-estimate since the best-fit value is actually around 0.74, but it's not wildly off.\n",
    "\n",
    "The table above also includes standard errors for each parameter estimate. These numbers convey how uncertain we should be in the parameters, i.e. higher standard errors correspond to more uncertainty. The y-intercept has a standard error of 0.262 and the slope has a standard error of 0.028. These values can be used to construct confidence intervals, although this topic is outside the scope of the current course.\n",
    "\n",
    "Just because the fit indicates a positive relationship between Happiness and LogGDP does not necessarily mean that result is statistically significant.  That is similar to when we are presented with political polling data, in which two candidates might have polling averages that are close to each other, but within the \"margin of error\" of the poll.  A margin of error is a type of confidence interval: just because one candidate might have slightly higher polling numbers does not mean that result is statistically significant if the difference between the two candidates lies within the margin of error.\n",
    "\n",
    "In order to assess the statistical significance of its parameter estimates, statsmodels carries out a t-test on these estimated coefficients.  This is a particular type of statistical test that compares the estimated coefficients with a statistical null model in which those coefficients are zero.  The ```t``` scores in the table above represent the number of standard errors the estimated coefficients are away from zero, and the probability ```P>|t|``` is the probability that one would estimate those values of the coefficients in the null model.  In other words, ```P>|t|``` estimates how likely it is that those estimated coefficients could actually be zero just by chance.  The fact that the probability ```P``` is zero out to at least three significant digits is indicative of the fact that these estimated coefficients are statistically significant and not equal to zero.  (The values of these probability estimates are contained in the ```pvalues``` attribute of the ```results``` object.)  Also presented is the 95% confidence interval (CI) for these estimates, showing the interval associated with the quantiles at 0.025 and 0.975, that is, the interval in which 95% of the estimates lie within."
   ]
  },
  {
   "cell_type": "markdown",
   "metadata": {
    "nbgrader": {
     "grade": false,
     "grade_id": "cell-7bde51abecad6399",
     "locked": true,
     "schema_version": 3,
     "solution": false,
     "task": false
    }
   },
   "source": [
    "### Step 7\n",
    "\n",
    "We can plot the data and the fit together using some of the statsmodels graphics functionality.  Since we'll want to plot both the data and the fit, we will plot one of them first, store the plot figure object in a variable we can reuse, and then plot the other.\n",
    "\n",
    "In the code cell below:\n",
    "\n",
    "* Plot the model results via a call to ```sm.graphics.abline_plot```, passing in the results object computed above in the ```model_results``` option, and assign the plot output to the variable ```fig```\n",
    "* Extract the relevant plotting axes with the following expression: ```ax = fig.axes[0]```\n",
    "* Call the method ```ax.scatter``` with two arguments to plot Happiness versus LogGDP (recall that LogGDP is now a particular column in the variable ```x``` that you have created: `x['LogGDP']`)\n",
    "* Your plot should look like this:<br> \n",
    "<img src=\"step7Plot.png\" height=\"300\" width=\"300\" align=\"left\"/>"
   ]
  },
  {
   "cell_type": "code",
   "execution_count": 39,
   "metadata": {
    "nbgrader": {
     "grade": false,
     "grade_id": "cell-7fb25c84b0fc211e",
     "locked": true,
     "schema_version": 3,
     "solution": false,
     "task": false
    }
   },
   "outputs": [
    {
     "data": {
      "image/png": "[encoded data removed]",
      "text/plain": [
       "<Figure size 432x288 with 1 Axes>"
      ]
     },
     "metadata": {
      "needs_background": "light"
     },
     "output_type": "display_data"
    }
   ],
   "source": [
    "fig=sm.graphics.abline_plot(model_results=results)\n",
    "ax = fig.axes[0]\n",
    "ax.scatter(x['LogGDP'],y)\n",
    "ax.margins(.1)\n",
    "plt.show()"
   ]
  },
  {
   "cell_type": "markdown",
   "metadata": {
    "nbgrader": {
     "grade": false,
     "grade_id": "cell-0c9ce2bb379b26aa",
     "locked": true,
     "schema_version": 3,
     "solution": false,
     "task": false
    }
   },
   "source": [
    "### Step 8\n",
    "\n",
    "We are not just interested in how Happiness depends on LogGDP, but how it relates to the full set of explanatory variables collected in the WHR data: LogGDP, Support, Life, Freedom, Generosity, and Corruption.  To analyze this full set of dependencies, we can set up a multivariate linear regression, which aims to fit a dependent response variable $Y$ to a group of independent variables $X$, by assuming that $Y$ depends on each individual variable $X_i$ separately and in a linear manner.  Instead of a single slope $\\beta$ as in the simple, univariate regression problem, there will now be a separate slope for each explanatory variable.\n",
    "\n",
    "In the code cell below, first set up the data for the multivariate regression problem, similar as to what we did above:\n",
    "\n",
    "* Assign to the variable ```explanatory_vars``` the list of column labels for the explanatory variables of interest\n",
    "* Assign to the variable ```Y``` the data contained in the Happiness column in the ```df1517``` dataframe\n",
    "* Assign to the variable ```X``` the data contained in the columns listed in `explanatory_vars` (hint: use the `explanatory_vars` list to index into the ```df1517``` dataframe)\n",
    "* Add a constant column to the exogenous data `X`\n",
    "* Print the value of ```X``` to verify that it has been constructed correctly"
   ]
  },
  {
   "cell_type": "code",
   "execution_count": 40,
   "metadata": {
    "nbgrader": {
     "grade": false,
     "grade_id": "cell-03b7b6d12d51d97a",
     "locked": true,
     "schema_version": 3,
     "solution": false,
     "task": false
    }
   },
   "outputs": [
    {
     "name": "stdout",
     "output_type": "stream",
     "text": [
      "      const  LogGDP  Support  Life  Freedom  Generosity  Corruption\n",
      "7      1.00    7.47     0.53 51.69     0.39        0.09        0.88\n",
      "8      1.00    7.46     0.56 52.02     0.52        0.06        0.79\n",
      "9      1.00    7.46     0.49 52.34     0.43       -0.11        0.95\n",
      "17     1.00    9.30     0.64 68.69     0.70       -0.09        0.88\n",
      "18     1.00    9.34     0.64 68.87     0.73       -0.02        0.90\n",
      "...     ...     ...      ...   ...      ...         ...         ...\n",
      "1548   1.00    8.20     0.77 53.27     0.81        0.11        0.77\n",
      "1549   1.00    8.21     0.74 53.80     0.82        0.13        0.74\n",
      "1559   1.00    7.56     0.74 50.93     0.67       -0.09        0.81\n",
      "1560   1.00    7.54     0.77 51.80     0.73       -0.07        0.72\n",
      "1561   1.00    7.54     0.75 52.67     0.75       -0.07        0.75\n",
      "\n",
      "[426 rows x 7 columns]\n"
     ]
    }
   ],
   "source": [
    "explanatory_vars = ['LogGDP', 'Support', 'Life', 'Freedom', 'Generosity', 'Corruption']\n",
    "Y = df1517['Happiness']\n",
    "X = df1517[explanatory_vars]\n",
    "X = sm.add_constant(X)\n",
    "print(X)"
   ]
  },
  {
   "cell_type": "markdown",
   "metadata": {
    "nbgrader": {
     "grade": false,
     "grade_id": "cell-4f1c4feb3875d5cb",
     "locked": true,
     "schema_version": 3,
     "solution": false,
     "task": false
    }
   },
   "source": [
    "### Step 9\n",
    "\n",
    "Similar to what we did above, now let's create an OLS model for the multivariate regression.  In the code cell below:\n",
    "\n",
    "* Create an OLS model to fit ```Y``` to ```X```, dropping any missing data in the process, and assign the result to the variable ```model2```\n",
    "* Fit ```model2``` and assign the output to ```results2```\n",
    "* Print the summary of the results in ```results2```"
   ]
  },
  {
   "cell_type": "code",
   "execution_count": 41,
   "metadata": {
    "nbgrader": {
     "grade": false,
     "grade_id": "cell-d4d67b47ea53cc71",
     "locked": true,
     "schema_version": 3,
     "solution": false,
     "task": false
    }
   },
   "outputs": [
    {
     "name": "stdout",
     "output_type": "stream",
     "text": [
      "                            OLS Regression Results                            \n",
      "==============================================================================\n",
      "Dep. Variable:              Happiness   R-squared:                       0.634\n",
      "Model:                            OLS   Adj. R-squared:                  0.633\n",
      "Method:                 Least Squares   F-statistic:                     708.9\n",
      "Date:                Fri, 12 Aug 2022   Prob (F-statistic):           2.06e-91\n",
      "Time:                        20:19:30   Log-Likelihood:                -422.66\n",
      "No. Observations:                 412   AIC:                             849.3\n",
      "Df Residuals:                     410   BIC:                             857.4\n",
      "Df Model:                           1                                         \n",
      "Covariance Type:            nonrobust                                         \n",
      "==============================================================================\n",
      "                 coef    std err          t      P>|t|      [0.025      0.975]\n",
      "------------------------------------------------------------------------------\n",
      "const         -1.4693      0.262     -5.613      0.000      -1.984      -0.955\n",
      "LogGDP         0.7436      0.028     26.625      0.000       0.689       0.798\n",
      "==============================================================================\n",
      "Omnibus:                        2.653   Durbin-Watson:                   0.932\n",
      "Prob(Omnibus):                  0.265   Jarque-Bera (JB):                2.666\n",
      "Skew:                          -0.160   Prob(JB):                        0.264\n",
      "Kurtosis:                       2.769   Cond. No.                         74.4\n",
      "==============================================================================\n",
      "\n",
      "Warnings:\n",
      "[1] Standard Errors assume that the covariance matrix of the errors is correctly specified.\n"
     ]
    }
   ],
   "source": [
    "model2 = sm.OLS(Y,X,missing='drop')\n",
    "results2 = model.fit()\n",
    "results2.summary\n",
    "print(results2.summary())"
   ]
  },
  {
   "cell_type": "markdown",
   "metadata": {
    "nbgrader": {
     "grade": false,
     "grade_id": "cell-90ec6b9cc1347da7",
     "locked": true,
     "schema_version": 3,
     "solution": false,
     "task": false
    }
   },
   "source": [
    "### Step 10\n",
    "\n",
    "Examine the output in the multivariate results summary.  Estimates of coefficients, standard errors, t scores and p values are now provided for all of the explanatory variables, as well as the overall intercept.  Note that the estimates for the intercept and the LogGDP slope are different than was the case in the simple regression.  That is typical, since multivariate regression accounts for relationships between each independent and dependent variable once all the other data relationships are taken into account.\n",
    "\n",
    "We can see from the summary results that all of the coefficient estimates are significant at a value P < 0.05, except for the relationship between Happiness and Generosity (P = 0.115).\n",
    "\n",
    "In carrying out a couple OLS analyses, we have just scratched the surface of the [functionality provided by statsmodels](https://www.statsmodels.org/stable/examples/index.html)."
   ]
  },
  {
   "cell_type": "code",
   "execution_count": 42,
   "metadata": {},
   "outputs": [
    {
     "data": {
      "text/html": [
       "<table class=\"simpletable\">\n",
       "<caption>OLS Regression Results</caption>\n",
       "<tr>\n",
       "  <th>Dep. Variable:</th>        <td>Happiness</td>    <th>  R-squared:         </th> <td>   0.634</td>\n",
       "</tr>\n",
       "<tr>\n",
       "  <th>Model:</th>                   <td>OLS</td>       <th>  Adj. R-squared:    </th> <td>   0.633</td>\n",
       "</tr>\n",
       "<tr>\n",
       "  <th>Method:</th>             <td>Least Squares</td>  <th>  F-statistic:       </th> <td>   708.9</td>\n",
       "</tr>\n",
       "<tr>\n",
       "  <th>Date:</th>             <td>Fri, 12 Aug 2022</td> <th>  Prob (F-statistic):</th> <td>2.06e-91</td>\n",
       "</tr>\n",
       "<tr>\n",
       "  <th>Time:</th>                 <td>20:19:32</td>     <th>  Log-Likelihood:    </th> <td> -422.66</td>\n",
       "</tr>\n",
       "<tr>\n",
       "  <th>No. Observations:</th>      <td>   412</td>      <th>  AIC:               </th> <td>   849.3</td>\n",
       "</tr>\n",
       "<tr>\n",
       "  <th>Df Residuals:</th>          <td>   410</td>      <th>  BIC:               </th> <td>   857.4</td>\n",
       "</tr>\n",
       "<tr>\n",
       "  <th>Df Model:</th>              <td>     1</td>      <th>                     </th>     <td> </td>   \n",
       "</tr>\n",
       "<tr>\n",
       "  <th>Covariance Type:</th>      <td>nonrobust</td>    <th>                     </th>     <td> </td>   \n",
       "</tr>\n",
       "</table>\n",
       "<table class=\"simpletable\">\n",
       "<tr>\n",
       "     <td></td>       <th>coef</th>     <th>std err</th>      <th>t</th>      <th>P>|t|</th>  <th>[0.025</th>    <th>0.975]</th>  \n",
       "</tr>\n",
       "<tr>\n",
       "  <th>const</th>  <td>   -1.4693</td> <td>    0.262</td> <td>   -5.613</td> <td> 0.000</td> <td>   -1.984</td> <td>   -0.955</td>\n",
       "</tr>\n",
       "<tr>\n",
       "  <th>LogGDP</th> <td>    0.7436</td> <td>    0.028</td> <td>   26.625</td> <td> 0.000</td> <td>    0.689</td> <td>    0.798</td>\n",
       "</tr>\n",
       "</table>\n",
       "<table class=\"simpletable\">\n",
       "<tr>\n",
       "  <th>Omnibus:</th>       <td> 2.653</td> <th>  Durbin-Watson:     </th> <td>   0.932</td>\n",
       "</tr>\n",
       "<tr>\n",
       "  <th>Prob(Omnibus):</th> <td> 0.265</td> <th>  Jarque-Bera (JB):  </th> <td>   2.666</td>\n",
       "</tr>\n",
       "<tr>\n",
       "  <th>Skew:</th>          <td>-0.160</td> <th>  Prob(JB):          </th> <td>   0.264</td>\n",
       "</tr>\n",
       "<tr>\n",
       "  <th>Kurtosis:</th>      <td> 2.769</td> <th>  Cond. No.          </th> <td>    74.4</td>\n",
       "</tr>\n",
       "</table><br/><br/>Warnings:<br/>[1] Standard Errors assume that the covariance matrix of the errors is correctly specified."
      ],
      "text/plain": [
       "<class 'statsmodels.iolib.summary.Summary'>\n",
       "\"\"\"\n",
       "                            OLS Regression Results                            \n",
       "==============================================================================\n",
       "Dep. Variable:              Happiness   R-squared:                       0.634\n",
       "Model:                            OLS   Adj. R-squared:                  0.633\n",
       "Method:                 Least Squares   F-statistic:                     708.9\n",
       "Date:                Fri, 12 Aug 2022   Prob (F-statistic):           2.06e-91\n",
       "Time:                        20:19:32   Log-Likelihood:                -422.66\n",
       "No. Observations:                 412   AIC:                             849.3\n",
       "Df Residuals:                     410   BIC:                             857.4\n",
       "Df Model:                           1                                         \n",
       "Covariance Type:            nonrobust                                         \n",
       "==============================================================================\n",
       "                 coef    std err          t      P>|t|      [0.025      0.975]\n",
       "------------------------------------------------------------------------------\n",
       "const         -1.4693      0.262     -5.613      0.000      -1.984      -0.955\n",
       "LogGDP         0.7436      0.028     26.625      0.000       0.689       0.798\n",
       "==============================================================================\n",
       "Omnibus:                        2.653   Durbin-Watson:                   0.932\n",
       "Prob(Omnibus):                  0.265   Jarque-Bera (JB):                2.666\n",
       "Skew:                          -0.160   Prob(JB):                        0.264\n",
       "Kurtosis:                       2.769   Cond. No.                         74.4\n",
       "==============================================================================\n",
       "\n",
       "Warnings:\n",
       "[1] Standard Errors assume that the covariance matrix of the errors is correctly specified.\n",
       "\"\"\""
      ]
     },
     "execution_count": 42,
     "metadata": {},
     "output_type": "execute_result"
    }
   ],
   "source": [
    "results2.summary()"
   ]
  },
  {
   "cell_type": "code",
   "execution_count": null,
   "metadata": {},
   "outputs": [],
   "source": []
  }
 ],
 "metadata": {
  "kernelspec": {
   "display_name": "Python 3",
   "language": "python",
   "name": "python3"
  },
  "language_info": {
   "codemirror_mode": {
    "name": "ipython",
    "version": 3
   },
   "file_extension": ".py",
   "mimetype": "text/x-python",
   "name": "python",
   "nbconvert_exporter": "python",
   "pygments_lexer": "ipython3",
   "version": "3.6.7"
  }
 },
 "nbformat": 4,
 "nbformat_minor": 2
}
