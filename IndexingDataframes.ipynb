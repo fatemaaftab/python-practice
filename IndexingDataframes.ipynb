{
 "cells": [
  {
   "cell_type": "markdown",
   "metadata": {
    "nbgrader": {
     "grade": false,
     "grade_id": "cell-d076bd886dec7e4d",
     "locked": true,
     "schema_version": 1,
     "solution": false
    }
   },
   "source": [
    "# DataFrame indexing"
   ]
  },
  {
   "cell_type": "markdown",
   "metadata": {
    "nbgrader": {
     "grade": false,
     "grade_id": "cell-ce0c843e47af29bf",
     "locked": true,
     "schema_version": 1,
     "solution": false
    }
   },
   "source": [
    "DataFrames are two-dimensional tables, labeled by row and column names, containing of a set of column-oriented data such that each column has a particular datatype (dtype).  Indexing and slicing are the processes of accessing subsets of data in a container by specifying which element(s) one is interested in.  Python lists and numpy arrays are indexed by integer position (e.g., ```my_list[3]``` or ```my_array[5,7]```), while Python dictionaries are indexed by keys (e.g., ```my_dict['name']```).  Because pandas DataFrames contain data in a positional order, *and* have row and column labels, they can be indexed both by position and by a label name.\n",
    "\n",
    "In this exercise we will explore indexing and slicing in DataFrames.  In addition to getting more experience working with Jupyter notebooks, we can also make use of the some of the nice ways that Jupyter facilities working with DataFrames.\n",
    "\n",
    "Online Pandas documentation describing indexing in great detail can be found [here](https://pandas.pydata.org/pandas-docs/stable/user_guide/indexing.html)."
   ]
  },
  {
   "cell_type": "markdown",
   "metadata": {
    "nbgrader": {
     "grade": false,
     "grade_id": "cell-b3d6b26e971cd4ad",
     "locked": true,
     "schema_version": 1,
     "solution": false
    }
   },
   "source": [
    "### Step 1.\n",
    "\n",
    "Write some code in the first empty cell below to:\n",
    "\n",
    "* import the pandas module (using the conventional shorthand renaming)\n",
    "* read the pizza excel spreadsheet (\"PizzaSheet.xlsx\") into a dataframe named ```dfp```\n",
    "* read the climate csv file (\"IthacaDailyClimate2018.csv\") into a dataframe named ```dfc```\n",
    "\n",
    "Once you've done so, execute the cell and inspect the two dataframes using the ```info``` and ```head``` methods to see that they loaded correctly, and to remind yourself what the dataframes consist of.  Feel free to add additional code cells if you want to be able to more easily inspect the output of each command as it is run."
   ]
  },
  {
   "cell_type": "code",
   "execution_count": 1,
   "metadata": {
    "nbgrader": {
     "grade": true,
     "grade_id": "cell-read-data",
     "locked": false,
     "points": 1,
     "schema_version": 1,
     "solution": true
    }
   },
   "outputs": [],
   "source": [
    "import pandas as pd\n",
    "dfp=pd.read_excel(\"PizzaSheet.xlsx\")\n",
    "dfc=pd.read_csv(\"IthacaDailyClimate2018.csv\")"
   ]
  },
  {
   "cell_type": "markdown",
   "metadata": {
    "nbgrader": {
     "grade": false,
     "grade_id": "cell-f566c8e8482dcdb5",
     "locked": true,
     "schema_version": 1,
     "solution": false
    }
   },
   "source": [
    "### Mechanisms for indexing\n",
    "\n",
    "Indexing with dataframes can be done through various mechanisms: \n",
    "\n",
    "* ```[]```\n",
    "* ```loc[]```\n",
    "* ```iloc[]```\n",
    "\n",
    "The first of these, ```[]```, is the square-bracket based indexing that we are familiar with from Python lists, Python dictionaries, and numpy arrays.  Because pandas dataframes are generally column-oriented, however, indexing with square brackets results in selecting a particular column based on its label.  We can loosely think of a dataframe as something like a dictionary of Series objects: each column label is like a key, and the value associated with that key is the data in that particular column, which is a pandas Series.  For example, ```dfc['Precipitation']``` will extract the column labeled 'Precipitation' and will return a Series (like a 1D numpy array).\n",
    "\n",
    "It's easiest to see this with some examples."
   ]
  },
  {
   "cell_type": "markdown",
   "metadata": {
    "nbgrader": {
     "grade": false,
     "grade_id": "cell-4cfe0522a0a67a1a",
     "locked": true,
     "schema_version": 1,
     "solution": false
    }
   },
   "source": [
    "### Step 2.\n",
    "\n",
    "Write and execute some code in the cell below to:\n",
    "\n",
    "* extract the 'Size' column from the dfp dataframe using square brackets, and assign it to the variable ```sizes```\n",
    "\n",
    "Print the new Series variable you have created.  This Series has the same index as the dfp dataframe (the integers 0 through 6 inclusive, which pandas encodes as a ```RangeIndex(start=0, stop=7, step=1)```, similar to the ```range``` objects found in Python).  Print the type of and the index of ```sizes``` to convince yourself that it is a Series object with that RangeIndex."
   ]
  },
  {
   "cell_type": "code",
   "execution_count": 2,
   "metadata": {
    "nbgrader": {
     "grade": false,
     "grade_id": "cell-9228248cda967fab",
     "locked": true,
     "schema_version": 1,
     "solution": false
    }
   },
   "outputs": [
    {
     "name": "stdout",
     "output_type": "stream",
     "text": [
      "63\n",
      "RangeIndex(start=0, stop=7, step=1)\n",
      "[[Timestamp('2018-02-20 00:00:00') 'L' 'Cheese' 'Pepperoni' 'Garlic' nan\n",
      "  nan nan 15.0]\n",
      " [Timestamp('2018-02-20 00:00:00') 'M' 'Cheese' 'Peppers' 'Onions'\n",
      "  'Olives' nan nan 13.5]\n",
      " [Timestamp('2018-02-20 00:00:00') 'S' 'Margherita' nan nan nan nan nan\n",
      "  10.0]\n",
      " [Timestamp('2018-02-20 00:00:00') 'M' 'Margherita' nan nan nan nan nan\n",
      "  12.0]\n",
      " [Timestamp('2018-02-21 00:00:00') 'L' 'Bianco' 'Spinach' nan nan nan nan\n",
      "  14.5]\n",
      " [Timestamp('2018-02-21 00:00:00') 'M' 'Marinara' 'Capers' 'Anchovies'\n",
      "  'Pecorino' nan nan 13.5]\n",
      " [Timestamp('2018-02-21 00:00:00') 'L' 'Cheese' 'Sausage' 'Pepperoni'\n",
      "  'Onions' 'Peppers' 'Mushrooms' 16.5]]\n",
      "Index(['Date', 'Size', 'Base', 'Topping #1', 'Topping #2', 'Topping #3',\n",
      "       'Topping #4', 'Topping #5', 'Price'],\n",
      "      dtype='object')\n"
     ]
    }
   ],
   "source": [
    "sizes = dfp.size\n",
    "print (sizes)\n",
    "Series = dfp.index\n",
    "print (Series)\n",
    "Type= dfp.values\n",
    "print(Type)\n",
    "columns = dfp.columns\n",
    "print(columns)"
   ]
  },
  {
   "cell_type": "markdown",
   "metadata": {
    "nbgrader": {
     "grade": false,
     "grade_id": "cell-eb91acebd61e9125",
     "locked": true,
     "schema_version": 1,
     "solution": false
    }
   },
   "source": [
    "### Step 3.\n",
    "\n",
    "We're not interested just in extracting data, but in computing with the extracted data.  As we've seen, Both Series and DataFrames have methods to compute summary mathematical operations such as ```sum```, ```min```, ```max```, and ```mean```.\n",
    "\n",
    "In the code cell below, write an expression to compute the mean price of pizzas sold by our pizzeria, and assign that value to the variable ```mean_price```.  (Hint: you can do this in one line by chaining method calls; you don't need to create a separate variable to store the price data first.)"
   ]
  },
  {
   "cell_type": "markdown",
   "metadata": {
    "nbgrader": {
     "grade": true,
     "grade_id": "cell-mean_price",
     "locked": false,
     "points": 1,
     "schema_version": 1,
     "solution": true
    }
   },
   "source": [
    "## Graded Cell\n",
    "\n",
    "This cell is worth 20% of the grade for this assignment."
   ]
  },
  {
   "cell_type": "code",
   "execution_count": 3,
   "metadata": {},
   "outputs": [
    {
     "name": "stdout",
     "output_type": "stream",
     "text": [
      "Price    13.571429\n",
      "dtype: float64\n"
     ]
    }
   ],
   "source": [
    "# YOUR CODE HERE\n",
    "mean_price = dfp.mean()\n",
    "print(mean_price)"
   ]
  },
  {
   "cell_type": "markdown",
   "metadata": {
    "nbgrader": {
     "grade": false,
     "grade_id": "cell-25e7a59b6324107f",
     "locked": true,
     "schema_version": 1,
     "solution": false
    }
   },
   "source": [
    "## Self-Check\n",
    "\n",
    "Run the cell below to test the correctness of your code above before submitting for grading."
   ]
  },
  {
   "cell_type": "code",
   "execution_count": 4,
   "metadata": {
    "nbgrader": {
     "grade": false,
     "grade_id": "cell-dbb79c5318f99dd9",
     "locked": true,
     "schema_version": 1,
     "solution": false
    }
   },
   "outputs": [
    {
     "name": "stdout",
     "output_type": "stream",
     "text": [
      "Correct!\n"
     ]
    }
   ],
   "source": [
    "# Run this self-test cell to check your code; do not add code or delete code in this cell\n",
    "from jn import testMeanPrice\n",
    "\n",
    "try:  \n",
    "    print(testMeanPrice(mean_price))\n",
    "except Exception as e:\n",
    "    print(\"Error!\\n\" + str(e))\n",
    "    "
   ]
  },
  {
   "cell_type": "markdown",
   "metadata": {
    "nbgrader": {
     "grade": false,
     "grade_id": "cell-d14be9e9232c2833",
     "locked": true,
     "schema_version": 1,
     "solution": false
    }
   },
   "source": [
    "### Step 4.\n",
    "\n",
    "We can use the same square-bracket based indexing to extract multiple columns from a dataframe.  In this case, we need to group the column labels of interest in a Python list.  If a dataframe df has columns named 'A', 'B', 'C', 'D', 'E', and we want to extract just columns 'B' and 'E', that could be accomplished with the expression ```df[['B','E']]```, i.e., we can index based on the list of columns ```['B','E']```.  In the cell below, write some code to extract both the columns 'Topping #1' and 'Topping #2' from dfp, and store the result in the variable ```top2```."
   ]
  },
  {
   "cell_type": "code",
   "execution_count": 5,
   "metadata": {
    "nbgrader": {
     "grade": false,
     "grade_id": "cell-21680ac3dc8abc7e",
     "locked": true,
     "schema_version": 1,
     "solution": false
    }
   },
   "outputs": [
    {
     "name": "stdout",
     "output_type": "stream",
     "text": [
      "  Topping #1 Topping #2\n",
      "0  Pepperoni     Garlic\n",
      "1    Peppers     Onions\n",
      "2        NaN        NaN\n",
      "3        NaN        NaN\n",
      "4    Spinach        NaN\n",
      "5     Capers  Anchovies\n",
      "6    Sausage  Pepperoni\n"
     ]
    }
   ],
   "source": [
    "top2 = dfp.iloc[:,[3,4]]\n",
    "print(top2)"
   ]
  },
  {
   "cell_type": "markdown",
   "metadata": {
    "nbgrader": {
     "grade": false,
     "grade_id": "cell-924b2d41abf85007",
     "locked": true,
     "schema_version": 1,
     "solution": false
    }
   },
   "source": [
    "### Indexing using loc\n",
    "\n",
    "Indexing of a dataframe using ```loc``` is more general, in that it enables to access both rows and columns based on label names.  It uses the same sort of multi-dimensional indexing that is used for numpy arrays, although with row and/or column labels rather than integer positional indexes.  By this we mean that the first entry in an index refers to row labels, and the second index refers to column labels.  If only one entry is specified, it is used to identify a row in a dataframe.\n",
    "\n",
    "Slicing is also supported using the colon ```:```, just as with Python lists and numpy arrays.  Unlike those other slicing operations, however, slicing a pandas dataframes includes data at the stop location."
   ]
  },
  {
   "cell_type": "markdown",
   "metadata": {
    "nbgrader": {
     "grade": false,
     "grade_id": "cell-245f6b3a82b421c5",
     "locked": true,
     "schema_version": 1,
     "solution": false
    }
   },
   "source": [
    "### Step 5.\n",
    "\n",
    "Using the ```loc``` method, write code in the cell below to:\n",
    "\n",
    "* extract the \"Base\" column from ```dfp``` for all pizzas sold, and assign that to the variable ```bases```\n",
    "* print ```bases```"
   ]
  },
  {
   "cell_type": "code",
   "execution_count": 6,
   "metadata": {
    "nbgrader": {
     "grade": false,
     "grade_id": "cell-aa4ea552a011a792",
     "locked": true,
     "schema_version": 1,
     "solution": false
    }
   },
   "outputs": [
    {
     "name": "stdout",
     "output_type": "stream",
     "text": [
      "         Base\n",
      "0      Cheese\n",
      "1      Cheese\n",
      "2  Margherita\n",
      "3  Margherita\n",
      "4      Bianco\n",
      "5    Marinara\n",
      "6      Cheese\n"
     ]
    }
   ],
   "source": [
    "bases = dfp.iloc[:,[2]]\n",
    "print(bases)"
   ]
  },
  {
   "cell_type": "markdown",
   "metadata": {
    "nbgrader": {
     "grade": false,
     "grade_id": "cell-5f35337a1eab79a6",
     "locked": true,
     "schema_version": 1,
     "solution": false
    }
   },
   "source": [
    "### Step 6.\n",
    "\n",
    "Using the ```loc``` method, write code in the cell below to:\n",
    "\n",
    "* extract the data from all of the Toppings columns in ```dfp``` for all pizzas sold, by slicing from \"Topping #1\" through \"Topping #5\", and assign that to the variable ```toppings```\n",
    "* print ```toppings```"
   ]
  },
  {
   "cell_type": "code",
   "execution_count": 7,
   "metadata": {
    "nbgrader": {
     "grade": false,
     "grade_id": "cell-77ad9963d409a388",
     "locked": true,
     "schema_version": 1,
     "solution": false
    }
   },
   "outputs": [
    {
     "name": "stdout",
     "output_type": "stream",
     "text": [
      "  Topping #1 Topping #2 Topping #3 Topping #4 Topping #5\n",
      "0  Pepperoni     Garlic        NaN        NaN        NaN\n",
      "1    Peppers     Onions     Olives        NaN        NaN\n",
      "2        NaN        NaN        NaN        NaN        NaN\n",
      "3        NaN        NaN        NaN        NaN        NaN\n",
      "4    Spinach        NaN        NaN        NaN        NaN\n",
      "5     Capers  Anchovies   Pecorino        NaN        NaN\n",
      "6    Sausage  Pepperoni     Onions    Peppers  Mushrooms\n"
     ]
    }
   ],
   "source": [
    "toppings = dfp.iloc[:,[3,4,5,6,7]]\n",
    "print(toppings)"
   ]
  },
  {
   "cell_type": "markdown",
   "metadata": {
    "nbgrader": {
     "grade": false,
     "grade_id": "cell-175f03acaf9d9767",
     "locked": true,
     "schema_version": 1,
     "solution": false
    }
   },
   "source": [
    "Instead of *printing* toppings, simply evaluate it instead in the empty code cell below (by executing the statement ```toppings```).  You should notice that the rendering of the dataframe in the notebook is fancier than what printing provides, and that there is an ```Out[]``` statement that represents the dataframe ```toppings```."
   ]
  },
  {
   "cell_type": "code",
   "execution_count": 8,
   "metadata": {
    "nbgrader": {
     "grade": false,
     "grade_id": "cell-c139e9d16142ec49",
     "locked": true,
     "schema_version": 1,
     "solution": false
    }
   },
   "outputs": [
    {
     "data": {
      "text/html": [
       "<div>\n",
       "<style scoped>\n",
       "    .dataframe tbody tr th:only-of-type {\n",
       "        vertical-align: middle;\n",
       "    }\n",
       "\n",
       "    .dataframe tbody tr th {\n",
       "        vertical-align: top;\n",
       "    }\n",
       "\n",
       "    .dataframe thead th {\n",
       "        text-align: right;\n",
       "    }\n",
       "</style>\n",
       "<table border=\"1\" class=\"dataframe\">\n",
       "  <thead>\n",
       "    <tr style=\"text-align: right;\">\n",
       "      <th></th>\n",
       "      <th>Topping #1</th>\n",
       "      <th>Topping #2</th>\n",
       "      <th>Topping #3</th>\n",
       "      <th>Topping #4</th>\n",
       "      <th>Topping #5</th>\n",
       "    </tr>\n",
       "  </thead>\n",
       "  <tbody>\n",
       "    <tr>\n",
       "      <th>0</th>\n",
       "      <td>Pepperoni</td>\n",
       "      <td>Garlic</td>\n",
       "      <td>NaN</td>\n",
       "      <td>NaN</td>\n",
       "      <td>NaN</td>\n",
       "    </tr>\n",
       "    <tr>\n",
       "      <th>1</th>\n",
       "      <td>Peppers</td>\n",
       "      <td>Onions</td>\n",
       "      <td>Olives</td>\n",
       "      <td>NaN</td>\n",
       "      <td>NaN</td>\n",
       "    </tr>\n",
       "    <tr>\n",
       "      <th>2</th>\n",
       "      <td>NaN</td>\n",
       "      <td>NaN</td>\n",
       "      <td>NaN</td>\n",
       "      <td>NaN</td>\n",
       "      <td>NaN</td>\n",
       "    </tr>\n",
       "    <tr>\n",
       "      <th>3</th>\n",
       "      <td>NaN</td>\n",
       "      <td>NaN</td>\n",
       "      <td>NaN</td>\n",
       "      <td>NaN</td>\n",
       "      <td>NaN</td>\n",
       "    </tr>\n",
       "    <tr>\n",
       "      <th>4</th>\n",
       "      <td>Spinach</td>\n",
       "      <td>NaN</td>\n",
       "      <td>NaN</td>\n",
       "      <td>NaN</td>\n",
       "      <td>NaN</td>\n",
       "    </tr>\n",
       "    <tr>\n",
       "      <th>5</th>\n",
       "      <td>Capers</td>\n",
       "      <td>Anchovies</td>\n",
       "      <td>Pecorino</td>\n",
       "      <td>NaN</td>\n",
       "      <td>NaN</td>\n",
       "    </tr>\n",
       "    <tr>\n",
       "      <th>6</th>\n",
       "      <td>Sausage</td>\n",
       "      <td>Pepperoni</td>\n",
       "      <td>Onions</td>\n",
       "      <td>Peppers</td>\n",
       "      <td>Mushrooms</td>\n",
       "    </tr>\n",
       "  </tbody>\n",
       "</table>\n",
       "</div>"
      ],
      "text/plain": [
       "  Topping #1 Topping #2 Topping #3 Topping #4 Topping #5\n",
       "0  Pepperoni     Garlic        NaN        NaN        NaN\n",
       "1    Peppers     Onions     Olives        NaN        NaN\n",
       "2        NaN        NaN        NaN        NaN        NaN\n",
       "3        NaN        NaN        NaN        NaN        NaN\n",
       "4    Spinach        NaN        NaN        NaN        NaN\n",
       "5     Capers  Anchovies   Pecorino        NaN        NaN\n",
       "6    Sausage  Pepperoni     Onions    Peppers  Mushrooms"
      ]
     },
     "execution_count": 8,
     "metadata": {},
     "output_type": "execute_result"
    }
   ],
   "source": [
    "toppings"
   ]
  },
  {
   "cell_type": "markdown",
   "metadata": {
    "nbgrader": {
     "grade": false,
     "grade_id": "cell-3eefb72f35deb79c",
     "locked": true,
     "schema_version": 1,
     "solution": false
    }
   },
   "source": [
    "### Step 7.\n",
    "\n",
    "The ```count``` method on a DataFrame or Series counts the number of non-missing (non-empty) entries in each column.\n",
    "\n",
    "Write a statement using the count method that computes the number of pizzas with 5 toppings (i.e., the number of pizzas for which the entry in \"Topping #5\" is not empty), and assign it to the variable ```num5```.  (There are a couple ways you can do this: (1) you can first extract the \"Topping #5\" column from the dataframe as a Series, and then compute the count, or (2) you can compute the counts for the entire dataframe, and then extract the count for \"Topping #5\".)"
   ]
  },
  {
   "cell_type": "markdown",
   "metadata": {},
   "source": [
    "## Graded Cell\n",
    "\n",
    "This cell is worth 60% of the grade for this assignment."
   ]
  },
  {
   "cell_type": "code",
   "execution_count": 3,
   "metadata": {
    "nbgrader": {
     "grade": false,
     "grade_id": "cell-num5Answer",
     "locked": false,
     "schema_version": 1,
     "solution": true
    }
   },
   "outputs": [
    {
     "name": "stdout",
     "output_type": "stream",
     "text": [
      "1\n"
     ]
    }
   ],
   "source": [
    "# YOUR CODE HERE\n",
    "import pandas as pd\n",
    "dfp = pd.read_excel(\"PizzaSheet.xlsx\")\n",
    "num5 = dfp.count()['Topping #5']\n",
    "print(num5)\n",
    "\n",
    "\n",
    "\n"
   ]
  },
  {
   "cell_type": "markdown",
   "metadata": {
    "nbgrader": {
     "grade": false,
     "grade_id": "cell-b724b8fa583fcc89",
     "locked": true,
     "schema_version": 1,
     "solution": false
    }
   },
   "source": [
    "## Self-Check\n",
    "\n",
    "Run the cell below to test the correctness of your code above before submitting for grading."
   ]
  },
  {
   "cell_type": "code",
   "execution_count": 4,
   "metadata": {
    "nbgrader": {
     "grade": true,
     "grade_id": "cell-num5Test",
     "locked": true,
     "points": 1,
     "schema_version": 1,
     "solution": false
    }
   },
   "outputs": [
    {
     "name": "stdout",
     "output_type": "stream",
     "text": [
      "Correct!\n"
     ]
    }
   ],
   "source": [
    "# Run this self-test cell to check your code; do not add code or delete code in this cell\n",
    "\n",
    "from jn import testNumPizzas\n",
    "\n",
    "try:  \n",
    "    print(testNumPizzas(num5, dfp))\n",
    "except Exception as e:\n",
    "    print(\"Error!\\n\" + str(e))\n",
    "    \n"
   ]
  },
  {
   "cell_type": "markdown",
   "metadata": {
    "nbgrader": {
     "grade": false,
     "grade_id": "cell-475a6e73f207134e",
     "locked": true,
     "schema_version": 1,
     "solution": false
    }
   },
   "source": [
    "### Selecting data subsets based on a condition\n",
    "\n",
    "Subsets of data can also be extracted from a DataFrame or Series based on some sort of logical condition, similar to how it is supported with numpy arrays.  A logical comparison can be made to produce a DataFrame or Series consisting of boolean values (either True or False, depending on whether the condition being tested is met or not), and indexing on those boolean values extracts only those entries that are True (i.e., that satisfy the comparison).\n",
    "\n",
    "For example, if we wanted to extract only those rows in the pizza dataframe corresponding to Large pizzas, we could write:\n",
    "\n",
    "```\n",
    "larges = dfp.loc[dfp['Size'] == 'L']\n",
    "```\n"
   ]
  },
  {
   "cell_type": "markdown",
   "metadata": {
    "nbgrader": {
     "grade": false,
     "grade_id": "cell-da831f490938db73",
     "locked": true,
     "schema_version": 1,
     "solution": false
    }
   },
   "source": [
    "### Step 8.\n",
    "\n",
    "In addition to the pizza dataframe, you also loaded the climate dataframe at the top of this exercise.  Let's say you wanted to know how many days during 2018 the temperature in Ithaca, NY reached at least 70 degrees Fahrenheit sometime during the day.\n",
    "\n",
    "* In the code cell below, write an expression to extract a new dataframe containing those days where the temperature reached at least 70 degrees, and assign that to the variable ```at_least_70```.  (You might need to think some about what the different columns in the full dataframe represent to decide how to extract the subset of interest.)\n",
    "* After that, write another expression that computes how many days reached at least 70 degrees, and assign that to the variable ```num_at_least_70```."
   ]
  },
  {
   "cell_type": "markdown",
   "metadata": {},
   "source": [
    "## Graded Cell\n",
    "\n",
    "This cell is worth 20% of the grade for this assignment."
   ]
  },
  {
   "cell_type": "code",
   "execution_count": 8,
   "metadata": {
    "nbgrader": {
     "grade": true,
     "grade_id": "cell-at_least_70",
     "locked": false,
     "points": 1,
     "schema_version": 1,
     "solution": true
    },
    "scrolled": true
   },
   "outputs": [
    {
     "name": "stdout",
     "output_type": "stream",
     "text": [
      "           Date  Maximum Temperature  Minimum Temperature  \\\n",
      "121  2018-05-02                   78                   34   \n",
      "122  2018-05-03                   85                   55   \n",
      "123  2018-05-04                   80                   60   \n",
      "124  2018-05-05                   81                   38   \n",
      "125  2018-05-06                   74                   43   \n",
      "..          ...                  ...                  ...   \n",
      "279  2018-10-07                   71                   59   \n",
      "281  2018-10-09                   77                   55   \n",
      "282  2018-10-10                   80                   62   \n",
      "283  2018-10-11                   78                   61   \n",
      "284  2018-10-12                   73                   45   \n",
      "\n",
      "     Average Temperature  Precipitation  Snowfall  Snow Depth  \n",
      "121                 56.0           0.00       0.0         0.0  \n",
      "122                 70.0           0.00       0.0         0.0  \n",
      "123                 70.0           0.07       0.0         0.0  \n",
      "124                 59.5           0.19       0.0         0.0  \n",
      "125                 58.5           0.00       0.0         0.0  \n",
      "..                   ...            ...       ...         ...  \n",
      "279                 65.0           0.38       0.0         0.0  \n",
      "281                 66.0           0.00       0.0         0.0  \n",
      "282                 71.0           0.00       0.0         0.0  \n",
      "283                 69.5           0.23       0.0         0.0  \n",
      "284                 59.0           0.50       0.0         0.0  \n",
      "\n",
      "[130 rows x 7 columns]\n",
      "130\n"
     ]
    }
   ],
   "source": [
    "# YOUR CODE HERE\n",
    "import pandas as pd\n",
    "dfc=pd.read_csv(\"IthacaDailyClimate2018.csv\")\n",
    "#print(dfc)\n",
    "at_least_70 = dfc.loc[dfc['Maximum Temperature']>= 70.0]\n",
    "print(at_least_70)\n",
    "num_at_least_70 = at_least_70['Maximum Temperature'].count()\n",
    "print(num_at_least_70)\n",
    "\n",
    "\n"
   ]
  },
  {
   "cell_type": "markdown",
   "metadata": {
    "nbgrader": {
     "grade": false,
     "grade_id": "cell-905a5d7733547a46",
     "locked": true,
     "schema_version": 1,
     "solution": false
    }
   },
   "source": [
    "## Self-Check\n",
    "\n",
    "Run the cell below to test the correctness of your code above before submitting for grading."
   ]
  },
  {
   "cell_type": "code",
   "execution_count": 9,
   "metadata": {
    "nbgrader": {
     "grade": false,
     "grade_id": "cell-test_at_least_70",
     "locked": true,
     "schema_version": 1,
     "solution": false
    }
   },
   "outputs": [
    {
     "name": "stdout",
     "output_type": "stream",
     "text": [
      "Correct!\n"
     ]
    }
   ],
   "source": [
    "# Run this self-test cell to check your code; do not add code or delete code in this cell\n",
    "from jn import test70DegreeDays\n",
    "try:  \n",
    "    print(test70DegreeDays(at_least_70, num_at_least_70, dfc))\n",
    "except Exception as e:\n",
    "    print(\"Error!\\n\" + str(e))"
   ]
  },
  {
   "cell_type": "code",
   "execution_count": null,
   "metadata": {},
   "outputs": [],
   "source": []
  }
 ],
 "metadata": {
  "kernelspec": {
   "display_name": "Python 3 (ipykernel)",
   "language": "python",
   "name": "python3"
  },
  "language_info": {
   "codemirror_mode": {
    "name": "ipython",
    "version": 3
   },
   "file_extension": ".py",
   "mimetype": "text/x-python",
   "name": "python",
   "nbconvert_exporter": "python",
   "pygments_lexer": "ipython3",
   "version": "3.9.12"
  }
 },
 "nbformat": 4,
 "nbformat_minor": 2
}
